{
 "cells": [
  {
   "cell_type": "code",
   "execution_count": 65,
   "id": "288cb387",
   "metadata": {},
   "outputs": [],
   "source": [
    "import re\n",
    "import pandas as pd"
   ]
  },
  {
   "cell_type": "code",
   "execution_count": 66,
   "id": "16c19957",
   "metadata": {},
   "outputs": [
    {
     "data": {
      "text/plain": [
       "<_io.TextIOWrapper name='chat.txt' mode='r' encoding='utf-8'>"
      ]
     },
     "execution_count": 66,
     "metadata": {},
     "output_type": "execute_result"
    }
   ],
   "source": [
    "f = open(\"chat.txt\",\"r\",encoding=\"utf-8\")\n",
    "f"
   ]
  },
  {
   "cell_type": "code",
   "execution_count": 67,
   "id": "ce51cddc",
   "metadata": {},
   "outputs": [],
   "source": [
    "data = f.read()"
   ]
  },
  {
   "cell_type": "code",
   "execution_count": 68,
   "id": "a9ebcc40",
   "metadata": {},
   "outputs": [
    {
     "name": "stdout",
     "output_type": "stream",
     "text": [
      "[23:04, 09/04/2021] Money For Nothing: To mix up or distort to such an extent as to make misleading or\n",
      "incomprehensible: The report garbled all the historical facts.\n",
      "[08:27, 10/04/2021] Money For Nothing: meet something head on=to deal with a problem or difficult\n",
      "situation directly and with determination, instead of avoiding it\n",
      "She could see a problem developing and decided to meet it head on.\n",
      "[08:31, 10/04/2021] Money For Nothing: head-on - adj - direct - a head-on collison\n",
      "[08:31, 10/04/2021] Money For Nothing: head-on - adv - directly - they hit a bus head-on\n",
      "[08:36, 10/04/2021] Money For Nothing: foot in the door = If you say that something helps someone to\n",
      "get their foot in the door or their toe in the door, you mean that it gives them an opportunity to start\n",
      "doing something new, usually in an area that is difficult to succeed in.\n",
      "The bondholding may help the firm get its foot in the door to win the business.\n",
      "There are a lot of talented kids out there who just need a foot in the door.\n",
      "[08:39, 10/04/2021] Money For Nothing: lean on = to depend on someone\n",
      "Everybody needs someone to lean on in times of trouble.\n",
      "[08:40, 10/04/2021] Money For Nothing: provide (one) with (something)\n",
      "To give or supply one with something for their use or benefit.\n",
      "The company is one of the few that provides its employees with paid paternity leave.\n",
      "I provided you with plenty of chances to prove your abilities, but you keep letting me down.\n",
      "[09:26, 10/04/2021] Money For Nothing: Instantiate- to represent or be an example of something:\n",
      "He seems to instantiate a new type of masculinity.\n",
      "[09:26, 10/04/2021] Money For Nothing: Instance= an example or single occurrence of something.\n",
      "&quot;a serious instance of corruption&quot;\n",
      "Similar:\n",
      "example\n",
      "occasion\n",
      "occurrence\n",
      "case\n"
     ]
    }
   ],
   "source": [
    "print(data)"
   ]
  },
  {
   "cell_type": "code",
   "execution_count": 69,
   "id": "c82ca5ec",
   "metadata": {},
   "outputs": [],
   "source": [
    "pattern = '\\[\\d{1,2}:\\d{1,2},\\s\\d{1,2}\\/\\d{1,2}\\/\\d{2,4}\\]\\s'"
   ]
  },
  {
   "cell_type": "code",
   "execution_count": 70,
   "id": "090890ad",
   "metadata": {},
   "outputs": [
    {
     "data": {
      "text/plain": [
       "['Money For Nothing: To mix up or distort to such an extent as to make misleading or\\nincomprehensible: The report garbled all the historical facts.\\n',\n",
       " 'Money For Nothing: meet something head on=to deal with a problem or difficult\\nsituation directly and with determination, instead of avoiding it\\nShe could see a problem developing and decided to meet it head on.\\n',\n",
       " 'Money For Nothing: head-on - adj - direct - a head-on collison\\n',\n",
       " 'Money For Nothing: head-on - adv - directly - they hit a bus head-on\\n',\n",
       " 'Money For Nothing: foot in the door = If you say that something helps someone to\\nget their foot in the door or their toe in the door, you mean that it gives them an opportunity to start\\ndoing something new, usually in an area that is difficult to succeed in.\\nThe bondholding may help the firm get its foot in the door to win the business.\\nThere are a lot of talented kids out there who just need a foot in the door.\\n',\n",
       " 'Money For Nothing: lean on = to depend on someone\\nEverybody needs someone to lean on in times of trouble.\\n',\n",
       " 'Money For Nothing: provide (one) with (something)\\nTo give or supply one with something for their use or benefit.\\nThe company is one of the few that provides its employees with paid paternity leave.\\nI provided you with plenty of chances to prove your abilities, but you keep letting me down.\\n',\n",
       " 'Money For Nothing: Instantiate- to represent or be an example of something:\\nHe seems to instantiate a new type of masculinity.\\n',\n",
       " 'Money For Nothing: Instance= an example or single occurrence of something.\\n&quot;a serious instance of corruption&quot;\\nSimilar:\\nexample\\noccasion\\noccurrence\\ncase']"
      ]
     },
     "execution_count": 70,
     "metadata": {},
     "output_type": "execute_result"
    }
   ],
   "source": [
    "messages = re.split(pattern, data)[1:]\n",
    "messages"
   ]
  },
  {
   "cell_type": "code",
   "execution_count": 71,
   "id": "9558449d",
   "metadata": {},
   "outputs": [
    {
     "data": {
      "text/plain": [
       "['[23:04, 09/04/2021] ',\n",
       " '[08:27, 10/04/2021] ',\n",
       " '[08:31, 10/04/2021] ',\n",
       " '[08:31, 10/04/2021] ',\n",
       " '[08:36, 10/04/2021] ',\n",
       " '[08:39, 10/04/2021] ',\n",
       " '[08:40, 10/04/2021] ',\n",
       " '[09:26, 10/04/2021] ',\n",
       " '[09:26, 10/04/2021] ']"
      ]
     },
     "execution_count": 71,
     "metadata": {},
     "output_type": "execute_result"
    }
   ],
   "source": [
    "dates = re.findall(pattern, data)\n",
    "dates"
   ]
  },
  {
   "cell_type": "code",
   "execution_count": 72,
   "id": "81ef4fb5",
   "metadata": {},
   "outputs": [
    {
     "data": {
      "text/html": [
       "<div>\n",
       "<style scoped>\n",
       "    .dataframe tbody tr th:only-of-type {\n",
       "        vertical-align: middle;\n",
       "    }\n",
       "\n",
       "    .dataframe tbody tr th {\n",
       "        vertical-align: top;\n",
       "    }\n",
       "\n",
       "    .dataframe thead th {\n",
       "        text-align: right;\n",
       "    }\n",
       "</style>\n",
       "<table border=\"1\" class=\"dataframe\">\n",
       "  <thead>\n",
       "    <tr style=\"text-align: right;\">\n",
       "      <th></th>\n",
       "      <th>user_message</th>\n",
       "      <th>message_dates</th>\n",
       "    </tr>\n",
       "  </thead>\n",
       "  <tbody>\n",
       "    <tr>\n",
       "      <th>0</th>\n",
       "      <td>Money For Nothing: To mix up or distort to suc...</td>\n",
       "      <td>[23:04, 09/04/2021]</td>\n",
       "    </tr>\n",
       "    <tr>\n",
       "      <th>1</th>\n",
       "      <td>Money For Nothing: meet something head on=to d...</td>\n",
       "      <td>[08:27, 10/04/2021]</td>\n",
       "    </tr>\n",
       "    <tr>\n",
       "      <th>2</th>\n",
       "      <td>Money For Nothing: head-on - adj - direct - a ...</td>\n",
       "      <td>[08:31, 10/04/2021]</td>\n",
       "    </tr>\n",
       "    <tr>\n",
       "      <th>3</th>\n",
       "      <td>Money For Nothing: head-on - adv - directly - ...</td>\n",
       "      <td>[08:31, 10/04/2021]</td>\n",
       "    </tr>\n",
       "    <tr>\n",
       "      <th>4</th>\n",
       "      <td>Money For Nothing: foot in the door = If you s...</td>\n",
       "      <td>[08:36, 10/04/2021]</td>\n",
       "    </tr>\n",
       "  </tbody>\n",
       "</table>\n",
       "</div>"
      ],
      "text/plain": [
       "                                        user_message         message_dates\n",
       "0  Money For Nothing: To mix up or distort to suc...  [23:04, 09/04/2021] \n",
       "1  Money For Nothing: meet something head on=to d...  [08:27, 10/04/2021] \n",
       "2  Money For Nothing: head-on - adj - direct - a ...  [08:31, 10/04/2021] \n",
       "3  Money For Nothing: head-on - adv - directly - ...  [08:31, 10/04/2021] \n",
       "4  Money For Nothing: foot in the door = If you s...  [08:36, 10/04/2021] "
      ]
     },
     "execution_count": 72,
     "metadata": {},
     "output_type": "execute_result"
    }
   ],
   "source": [
    "df = pd.DataFrame({\"user_message\":messages,\"message_dates\":dates})\n",
    "# df[\"message_dates\"] = pd.to_datetime(df[\"message_dates\"], format = '[%H:%M, %d/%m/%Y]')\n",
    "df.head()"
   ]
  },
  {
   "cell_type": "code",
   "execution_count": 73,
   "id": "e6110f98",
   "metadata": {},
   "outputs": [
    {
     "name": "stdout",
     "output_type": "stream",
     "text": [
      "<class 'pandas.core.frame.DataFrame'>\n",
      "RangeIndex: 9 entries, 0 to 8\n",
      "Data columns (total 2 columns):\n",
      " #   Column         Non-Null Count  Dtype \n",
      "---  ------         --------------  ----- \n",
      " 0   user_message   9 non-null      object\n",
      " 1   message_dates  9 non-null      object\n",
      "dtypes: object(2)\n",
      "memory usage: 276.0+ bytes\n"
     ]
    }
   ],
   "source": [
    "df.info()"
   ]
  },
  {
   "cell_type": "code",
   "execution_count": 74,
   "id": "a0d3a3fe",
   "metadata": {},
   "outputs": [
    {
     "data": {
      "text/plain": [
       "'[23:04, 09/04/2021] '"
      ]
     },
     "execution_count": 74,
     "metadata": {},
     "output_type": "execute_result"
    }
   ],
   "source": [
    "df['message_dates'].iloc[0]"
   ]
  },
  {
   "cell_type": "code",
   "execution_count": 75,
   "id": "f97a07e0",
   "metadata": {},
   "outputs": [],
   "source": [
    "df['message_dates'] = pd.to_datetime(df['message_dates'], format='[%H:%M, %d/%m/%Y] ')"
   ]
  },
  {
   "cell_type": "code",
   "execution_count": 77,
   "id": "8462624e",
   "metadata": {},
   "outputs": [
    {
     "data": {
      "text/html": [
       "<div>\n",
       "<style scoped>\n",
       "    .dataframe tbody tr th:only-of-type {\n",
       "        vertical-align: middle;\n",
       "    }\n",
       "\n",
       "    .dataframe tbody tr th {\n",
       "        vertical-align: top;\n",
       "    }\n",
       "\n",
       "    .dataframe thead th {\n",
       "        text-align: right;\n",
       "    }\n",
       "</style>\n",
       "<table border=\"1\" class=\"dataframe\">\n",
       "  <thead>\n",
       "    <tr style=\"text-align: right;\">\n",
       "      <th></th>\n",
       "      <th>user_message</th>\n",
       "      <th>message_dates</th>\n",
       "    </tr>\n",
       "  </thead>\n",
       "  <tbody>\n",
       "    <tr>\n",
       "      <th>0</th>\n",
       "      <td>Money For Nothing: To mix up or distort to suc...</td>\n",
       "      <td>2021-04-09 23:04:00</td>\n",
       "    </tr>\n",
       "    <tr>\n",
       "      <th>1</th>\n",
       "      <td>Money For Nothing: meet something head on=to d...</td>\n",
       "      <td>2021-04-10 08:27:00</td>\n",
       "    </tr>\n",
       "    <tr>\n",
       "      <th>2</th>\n",
       "      <td>Money For Nothing: head-on - adj - direct - a ...</td>\n",
       "      <td>2021-04-10 08:31:00</td>\n",
       "    </tr>\n",
       "    <tr>\n",
       "      <th>3</th>\n",
       "      <td>Money For Nothing: head-on - adv - directly - ...</td>\n",
       "      <td>2021-04-10 08:31:00</td>\n",
       "    </tr>\n",
       "    <tr>\n",
       "      <th>4</th>\n",
       "      <td>Money For Nothing: foot in the door = If you s...</td>\n",
       "      <td>2021-04-10 08:36:00</td>\n",
       "    </tr>\n",
       "    <tr>\n",
       "      <th>5</th>\n",
       "      <td>Money For Nothing: lean on = to depend on some...</td>\n",
       "      <td>2021-04-10 08:39:00</td>\n",
       "    </tr>\n",
       "    <tr>\n",
       "      <th>6</th>\n",
       "      <td>Money For Nothing: provide (one) with (somethi...</td>\n",
       "      <td>2021-04-10 08:40:00</td>\n",
       "    </tr>\n",
       "    <tr>\n",
       "      <th>7</th>\n",
       "      <td>Money For Nothing: Instantiate- to represent o...</td>\n",
       "      <td>2021-04-10 09:26:00</td>\n",
       "    </tr>\n",
       "    <tr>\n",
       "      <th>8</th>\n",
       "      <td>Money For Nothing: Instance= an example or sin...</td>\n",
       "      <td>2021-04-10 09:26:00</td>\n",
       "    </tr>\n",
       "  </tbody>\n",
       "</table>\n",
       "</div>"
      ],
      "text/plain": [
       "                                        user_message       message_dates\n",
       "0  Money For Nothing: To mix up or distort to suc... 2021-04-09 23:04:00\n",
       "1  Money For Nothing: meet something head on=to d... 2021-04-10 08:27:00\n",
       "2  Money For Nothing: head-on - adj - direct - a ... 2021-04-10 08:31:00\n",
       "3  Money For Nothing: head-on - adv - directly - ... 2021-04-10 08:31:00\n",
       "4  Money For Nothing: foot in the door = If you s... 2021-04-10 08:36:00\n",
       "5  Money For Nothing: lean on = to depend on some... 2021-04-10 08:39:00\n",
       "6  Money For Nothing: provide (one) with (somethi... 2021-04-10 08:40:00\n",
       "7  Money For Nothing: Instantiate- to represent o... 2021-04-10 09:26:00\n",
       "8  Money For Nothing: Instance= an example or sin... 2021-04-10 09:26:00"
      ]
     },
     "execution_count": 77,
     "metadata": {},
     "output_type": "execute_result"
    }
   ],
   "source": [
    "df"
   ]
  },
  {
   "cell_type": "code",
   "execution_count": 96,
   "id": "b14ba1d3",
   "metadata": {},
   "outputs": [
    {
     "data": {
      "text/html": [
       "<div>\n",
       "<style scoped>\n",
       "    .dataframe tbody tr th:only-of-type {\n",
       "        vertical-align: middle;\n",
       "    }\n",
       "\n",
       "    .dataframe tbody tr th {\n",
       "        vertical-align: top;\n",
       "    }\n",
       "\n",
       "    .dataframe thead th {\n",
       "        text-align: right;\n",
       "    }\n",
       "</style>\n",
       "<table border=\"1\" class=\"dataframe\">\n",
       "  <thead>\n",
       "    <tr style=\"text-align: right;\">\n",
       "      <th></th>\n",
       "      <th>users</th>\n",
       "      <th>messages</th>\n",
       "      <th>dates</th>\n",
       "    </tr>\n",
       "  </thead>\n",
       "  <tbody>\n",
       "    <tr>\n",
       "      <th>0</th>\n",
       "      <td>Money For Nothing</td>\n",
       "      <td>To mix up or distort to such an extent as to ...</td>\n",
       "      <td>2021-04-09 23:04:00</td>\n",
       "    </tr>\n",
       "    <tr>\n",
       "      <th>1</th>\n",
       "      <td>Money For Nothing</td>\n",
       "      <td>meet something head on=to deal with a problem...</td>\n",
       "      <td>2021-04-10 08:27:00</td>\n",
       "    </tr>\n",
       "    <tr>\n",
       "      <th>2</th>\n",
       "      <td>Money For Nothing</td>\n",
       "      <td>head-on - adj - direct - a head-on collison\\n</td>\n",
       "      <td>2021-04-10 08:31:00</td>\n",
       "    </tr>\n",
       "    <tr>\n",
       "      <th>3</th>\n",
       "      <td>Money For Nothing</td>\n",
       "      <td>head-on - adv - directly - they hit a bus hea...</td>\n",
       "      <td>2021-04-10 08:31:00</td>\n",
       "    </tr>\n",
       "    <tr>\n",
       "      <th>4</th>\n",
       "      <td>Money For Nothing</td>\n",
       "      <td>foot in the door = If you say that something ...</td>\n",
       "      <td>2021-04-10 08:36:00</td>\n",
       "    </tr>\n",
       "    <tr>\n",
       "      <th>5</th>\n",
       "      <td>Money For Nothing</td>\n",
       "      <td>lean on = to depend on someone\\nEverybody nee...</td>\n",
       "      <td>2021-04-10 08:39:00</td>\n",
       "    </tr>\n",
       "    <tr>\n",
       "      <th>6</th>\n",
       "      <td>Money For Nothing</td>\n",
       "      <td>provide (one) with (something)\\nTo give or su...</td>\n",
       "      <td>2021-04-10 08:40:00</td>\n",
       "    </tr>\n",
       "    <tr>\n",
       "      <th>7</th>\n",
       "      <td>Money For Nothing</td>\n",
       "      <td>Instantiate- to represent or be an example of...</td>\n",
       "      <td>2021-04-10 09:26:00</td>\n",
       "    </tr>\n",
       "    <tr>\n",
       "      <th>8</th>\n",
       "      <td>Money For Nothing</td>\n",
       "      <td>Instance= an example or single occurrence of ...</td>\n",
       "      <td>2021-04-10 09:26:00</td>\n",
       "    </tr>\n",
       "  </tbody>\n",
       "</table>\n",
       "</div>"
      ],
      "text/plain": [
       "               users                                           messages  \\\n",
       "0  Money For Nothing   To mix up or distort to such an extent as to ...   \n",
       "1  Money For Nothing   meet something head on=to deal with a problem...   \n",
       "2  Money For Nothing      head-on - adj - direct - a head-on collison\\n   \n",
       "3  Money For Nothing   head-on - adv - directly - they hit a bus hea...   \n",
       "4  Money For Nothing   foot in the door = If you say that something ...   \n",
       "5  Money For Nothing   lean on = to depend on someone\\nEverybody nee...   \n",
       "6  Money For Nothing   provide (one) with (something)\\nTo give or su...   \n",
       "7  Money For Nothing   Instantiate- to represent or be an example of...   \n",
       "8  Money For Nothing   Instance= an example or single occurrence of ...   \n",
       "\n",
       "                dates  \n",
       "0 2021-04-09 23:04:00  \n",
       "1 2021-04-10 08:27:00  \n",
       "2 2021-04-10 08:31:00  \n",
       "3 2021-04-10 08:31:00  \n",
       "4 2021-04-10 08:36:00  \n",
       "5 2021-04-10 08:39:00  \n",
       "6 2021-04-10 08:40:00  \n",
       "7 2021-04-10 09:26:00  \n",
       "8 2021-04-10 09:26:00  "
      ]
     },
     "execution_count": 96,
     "metadata": {},
     "output_type": "execute_result"
    }
   ],
   "source": [
    "users=[]\n",
    "messages = []\n",
    "\n",
    "for m in df[\"user_message\"]:\n",
    "    user = re.split(r':',m)[0]\n",
    "    message = re.split(r':',m)[1]\n",
    "    users.append(user)\n",
    "    messages.append(message)\n",
    "\n",
    "df[\"users\"] = users\n",
    "df[\"messages\"] = messages\n",
    "df[\"dates\"] = df[\"message_dates\"]\n",
    "df.drop([\"user_message\",\"message_dates\"],axis=1, inplace = True)\n",
    "df"
   ]
  },
  {
   "cell_type": "code",
   "execution_count": 103,
   "id": "406132c2",
   "metadata": {},
   "outputs": [],
   "source": [
    "df[\"year\"] = df[\"dates\"].dt.year\n",
    "df[\"month\"] = df[\"dates\"].dt.month_name()\n",
    "df[\"day\"] = df[\"dates\"].dt.day\n",
    "df[\"hour\"] = df[\"dates\"].dt.hour\n",
    "df[\"minute\"] = df[\"dates\"].dt.minute"
   ]
  },
  {
   "cell_type": "code",
   "execution_count": 104,
   "id": "8bbd731c",
   "metadata": {},
   "outputs": [
    {
     "data": {
      "text/html": [
       "<div>\n",
       "<style scoped>\n",
       "    .dataframe tbody tr th:only-of-type {\n",
       "        vertical-align: middle;\n",
       "    }\n",
       "\n",
       "    .dataframe tbody tr th {\n",
       "        vertical-align: top;\n",
       "    }\n",
       "\n",
       "    .dataframe thead th {\n",
       "        text-align: right;\n",
       "    }\n",
       "</style>\n",
       "<table border=\"1\" class=\"dataframe\">\n",
       "  <thead>\n",
       "    <tr style=\"text-align: right;\">\n",
       "      <th></th>\n",
       "      <th>users</th>\n",
       "      <th>messages</th>\n",
       "      <th>dates</th>\n",
       "      <th>year</th>\n",
       "      <th>month</th>\n",
       "      <th>day</th>\n",
       "      <th>hour</th>\n",
       "      <th>minute</th>\n",
       "    </tr>\n",
       "  </thead>\n",
       "  <tbody>\n",
       "    <tr>\n",
       "      <th>0</th>\n",
       "      <td>Money For Nothing</td>\n",
       "      <td>To mix up or distort to such an extent as to ...</td>\n",
       "      <td>2021-04-09 23:04:00</td>\n",
       "      <td>2021</td>\n",
       "      <td>April</td>\n",
       "      <td>9</td>\n",
       "      <td>23</td>\n",
       "      <td>4</td>\n",
       "    </tr>\n",
       "    <tr>\n",
       "      <th>1</th>\n",
       "      <td>Money For Nothing</td>\n",
       "      <td>meet something head on=to deal with a problem...</td>\n",
       "      <td>2021-04-10 08:27:00</td>\n",
       "      <td>2021</td>\n",
       "      <td>April</td>\n",
       "      <td>10</td>\n",
       "      <td>8</td>\n",
       "      <td>27</td>\n",
       "    </tr>\n",
       "    <tr>\n",
       "      <th>2</th>\n",
       "      <td>Money For Nothing</td>\n",
       "      <td>head-on - adj - direct - a head-on collison\\n</td>\n",
       "      <td>2021-04-10 08:31:00</td>\n",
       "      <td>2021</td>\n",
       "      <td>April</td>\n",
       "      <td>10</td>\n",
       "      <td>8</td>\n",
       "      <td>31</td>\n",
       "    </tr>\n",
       "    <tr>\n",
       "      <th>3</th>\n",
       "      <td>Money For Nothing</td>\n",
       "      <td>head-on - adv - directly - they hit a bus hea...</td>\n",
       "      <td>2021-04-10 08:31:00</td>\n",
       "      <td>2021</td>\n",
       "      <td>April</td>\n",
       "      <td>10</td>\n",
       "      <td>8</td>\n",
       "      <td>31</td>\n",
       "    </tr>\n",
       "    <tr>\n",
       "      <th>4</th>\n",
       "      <td>Money For Nothing</td>\n",
       "      <td>foot in the door = If you say that something ...</td>\n",
       "      <td>2021-04-10 08:36:00</td>\n",
       "      <td>2021</td>\n",
       "      <td>April</td>\n",
       "      <td>10</td>\n",
       "      <td>8</td>\n",
       "      <td>36</td>\n",
       "    </tr>\n",
       "    <tr>\n",
       "      <th>5</th>\n",
       "      <td>Money For Nothing</td>\n",
       "      <td>lean on = to depend on someone\\nEverybody nee...</td>\n",
       "      <td>2021-04-10 08:39:00</td>\n",
       "      <td>2021</td>\n",
       "      <td>April</td>\n",
       "      <td>10</td>\n",
       "      <td>8</td>\n",
       "      <td>39</td>\n",
       "    </tr>\n",
       "    <tr>\n",
       "      <th>6</th>\n",
       "      <td>Money For Nothing</td>\n",
       "      <td>provide (one) with (something)\\nTo give or su...</td>\n",
       "      <td>2021-04-10 08:40:00</td>\n",
       "      <td>2021</td>\n",
       "      <td>April</td>\n",
       "      <td>10</td>\n",
       "      <td>8</td>\n",
       "      <td>40</td>\n",
       "    </tr>\n",
       "    <tr>\n",
       "      <th>7</th>\n",
       "      <td>Money For Nothing</td>\n",
       "      <td>Instantiate- to represent or be an example of...</td>\n",
       "      <td>2021-04-10 09:26:00</td>\n",
       "      <td>2021</td>\n",
       "      <td>April</td>\n",
       "      <td>10</td>\n",
       "      <td>9</td>\n",
       "      <td>26</td>\n",
       "    </tr>\n",
       "    <tr>\n",
       "      <th>8</th>\n",
       "      <td>Money For Nothing</td>\n",
       "      <td>Instance= an example or single occurrence of ...</td>\n",
       "      <td>2021-04-10 09:26:00</td>\n",
       "      <td>2021</td>\n",
       "      <td>April</td>\n",
       "      <td>10</td>\n",
       "      <td>9</td>\n",
       "      <td>26</td>\n",
       "    </tr>\n",
       "  </tbody>\n",
       "</table>\n",
       "</div>"
      ],
      "text/plain": [
       "               users                                           messages  \\\n",
       "0  Money For Nothing   To mix up or distort to such an extent as to ...   \n",
       "1  Money For Nothing   meet something head on=to deal with a problem...   \n",
       "2  Money For Nothing      head-on - adj - direct - a head-on collison\\n   \n",
       "3  Money For Nothing   head-on - adv - directly - they hit a bus hea...   \n",
       "4  Money For Nothing   foot in the door = If you say that something ...   \n",
       "5  Money For Nothing   lean on = to depend on someone\\nEverybody nee...   \n",
       "6  Money For Nothing   provide (one) with (something)\\nTo give or su...   \n",
       "7  Money For Nothing   Instantiate- to represent or be an example of...   \n",
       "8  Money For Nothing   Instance= an example or single occurrence of ...   \n",
       "\n",
       "                dates  year  month  day  hour  minute  \n",
       "0 2021-04-09 23:04:00  2021  April    9    23       4  \n",
       "1 2021-04-10 08:27:00  2021  April   10     8      27  \n",
       "2 2021-04-10 08:31:00  2021  April   10     8      31  \n",
       "3 2021-04-10 08:31:00  2021  April   10     8      31  \n",
       "4 2021-04-10 08:36:00  2021  April   10     8      36  \n",
       "5 2021-04-10 08:39:00  2021  April   10     8      39  \n",
       "6 2021-04-10 08:40:00  2021  April   10     8      40  \n",
       "7 2021-04-10 09:26:00  2021  April   10     9      26  \n",
       "8 2021-04-10 09:26:00  2021  April   10     9      26  "
      ]
     },
     "execution_count": 104,
     "metadata": {},
     "output_type": "execute_result"
    }
   ],
   "source": [
    "df"
   ]
  },
  {
   "cell_type": "code",
   "execution_count": 4,
   "id": "07008bc3",
   "metadata": {},
   "outputs": [],
   "source": [
    "from urlextract import URLExtract\n",
    "extract = URLExtract()\n",
    "urls = extract.find_urls(\"Lets have url stackoverflow.com as an example of google.com, https://www.linkedin.com/feed/ https://www.youtube.com/watch?v=Q0QwvZKG_6Q&t=2988s \")"
   ]
  },
  {
   "cell_type": "code",
   "execution_count": 5,
   "id": "4a05fe38",
   "metadata": {},
   "outputs": [
    {
     "data": {
      "text/plain": [
       "['stackoverflow.com',\n",
       " 'google.com',\n",
       " 'https://www.linkedin.com/feed/',\n",
       " 'https://www.youtube.com/watch?v=Q0QwvZKG_6Q&t=2988s']"
      ]
     },
     "execution_count": 5,
     "metadata": {},
     "output_type": "execute_result"
    }
   ],
   "source": [
    "urls"
   ]
  },
  {
   "cell_type": "code",
   "execution_count": null,
   "id": "eb5ae367",
   "metadata": {},
   "outputs": [],
   "source": []
  }
 ],
 "metadata": {
  "kernelspec": {
   "display_name": "Python 3 (ipykernel)",
   "language": "python",
   "name": "python3"
  },
  "language_info": {
   "codemirror_mode": {
    "name": "ipython",
    "version": 3
   },
   "file_extension": ".py",
   "mimetype": "text/x-python",
   "name": "python",
   "nbconvert_exporter": "python",
   "pygments_lexer": "ipython3",
   "version": "3.11.2"
  }
 },
 "nbformat": 4,
 "nbformat_minor": 5
}
